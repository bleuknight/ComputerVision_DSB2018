{
 "cells": [
  {
   "cell_type": "code",
   "execution_count": null,
   "metadata": {},
   "outputs": [],
   "source": [
    "%matplotlib inline"
   ]
  },
  {
   "cell_type": "markdown",
   "metadata": {},
   "source": [
    "\n",
    "# Immunohistochemical staining colors separation\n",
    "\n",
    "\n",
    "Color deconvolution consists of the separation of features by their colors.\n",
    "\n",
    "In this example we separate the immunohistochemical (IHC) staining from the\n",
    "hematoxylin counterstaining. The separation is achieved with the method\n",
    "described in [1]_, known as \"color deconvolution\".\n",
    "\n",
    "The IHC staining expression of the FHL2 protein is here revealed with\n",
    "Diaminobenzidine (DAB) which gives a brown color.\n",
    "\n",
    "\n",
    ".. [1] A. C. Ruifrok and D. A. Johnston, \"Quantification of histochemical\n",
    "       staining by color deconvolution.,\" Analytical and quantitative\n",
    "       cytology and histology / the International Academy of Cytology [and]\n",
    "       American Society of Cytology, vol. 23, no. 4, pp. 291-9, Aug. 2001.\n",
    "\n",
    "\n"
   ]
  },
  {
   "cell_type": "code",
   "execution_count": null,
   "metadata": {},
   "outputs": [],
   "source": [
    "import matplotlib.pyplot as plt\n",
    "\n",
    "from skimage import data\n",
    "from skimage.color import rgb2hed\n",
    "from matplotlib.colors import LinearSegmentedColormap\n",
    "\n",
    "# Create an artificial color close to the orginal one\n",
    "cmap_hema = LinearSegmentedColormap.from_list('mycmap', ['white', 'navy'])\n",
    "cmap_dab = LinearSegmentedColormap.from_list('mycmap', ['white',\n",
    "                                             'saddlebrown'])\n",
    "cmap_eosin = LinearSegmentedColormap.from_list('mycmap', ['darkviolet',\n",
    "                                               'white'])\n",
    "\n",
    "ihc_rgb = data.immunohistochemistry()\n",
    "ihc_hed = rgb2hed(ihc_rgb)\n",
    "\n",
    "fig, axes = plt.subplots(2, 2, figsize=(7, 6), sharex=True, sharey=True)\n",
    "ax = axes.ravel()\n",
    "\n",
    "ax[0].imshow(ihc_rgb)\n",
    "ax[0].set_title(\"Original image\")\n",
    "\n",
    "ax[1].imshow(ihc_hed[:, :, 0], cmap=cmap_hema)\n",
    "ax[1].set_title(\"Hematoxylin\")\n",
    "\n",
    "ax[2].imshow(ihc_hed[:, :, 1], cmap=cmap_eosin)\n",
    "ax[2].set_title(\"Eosin\")\n",
    "\n",
    "ax[3].imshow(ihc_hed[:, :, 2], cmap=cmap_dab)\n",
    "ax[3].set_title(\"DAB\")\n",
    "\n",
    "for a in ax.ravel():\n",
    "    a.axis('off')\n",
    "\n",
    "fig.tight_layout()"
   ]
  },
  {
   "cell_type": "markdown",
   "metadata": {},
   "source": [
    "Now we can easily manipulate the hematoxylin and DAB \"channels\":\n",
    "\n"
   ]
  },
  {
   "cell_type": "code",
   "execution_count": null,
   "metadata": {},
   "outputs": [],
   "source": [
    "import numpy as np\n",
    "from skimage.exposure import rescale_intensity\n",
    "\n",
    "# Rescale hematoxylin and DAB signals and give them a fluorescence look\n",
    "h = rescale_intensity(ihc_hed[:, :, 0], out_range=(0, 1))\n",
    "d = rescale_intensity(ihc_hed[:, :, 2], out_range=(0, 1))\n",
    "zdh = np.dstack((np.zeros_like(h), d, h))\n",
    "\n",
    "fig = plt.figure()\n",
    "axis = plt.subplot(1, 1, 1, sharex=ax[0], sharey=ax[0])\n",
    "axis.imshow(zdh)\n",
    "axis.set_title(\"Stain separated image (rescaled)\")\n",
    "axis.axis('off')\n",
    "plt.show()"
   ]
  }
 ],
 "metadata": {
  "kernelspec": {
   "display_name": "Python 3",
   "language": "python",
   "name": "python3"
  },
  "language_info": {
   "codemirror_mode": {
    "name": "ipython",
    "version": 3
   },
   "file_extension": ".py",
   "mimetype": "text/x-python",
   "name": "python",
   "nbconvert_exporter": "python",
   "pygments_lexer": "ipython3",
   "version": "3.6.4"
  }
 },
 "nbformat": 4,
 "nbformat_minor": 1
}
